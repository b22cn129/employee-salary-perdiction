{
 "cells": [
  {
   "cell_type": "code",
   "execution_count": 1,
   "id": "be3d8857-5c28-4915-90e6-d54daf25a6cb",
   "metadata": {},
   "outputs": [
    {
     "name": "stdout",
     "output_type": "stream",
     "text": [
      "Mean Squared Error: 111460229.3628806\n",
      "R² Score: 0.4698681124238735\n",
      "Predicted Salary for New Employee: $65901.05\n"
     ]
    }
   ],
   "source": [
    "import pandas as pd\n",
    "from sklearn.model_selection import train_test_split\n",
    "from sklearn.preprocessing import OneHotEncoder\n",
    "from sklearn.compose import ColumnTransformer\n",
    "from sklearn.linear_model import LinearRegression\n",
    "from sklearn.metrics import mean_squared_error, r2_score\n",
    "\n",
    "# 1. Create a sample dataset directly in code\n",
    "data = {\n",
    "    'Experience': [1, 3, 5, 7, 9, 2, 4, 6, 8, 10],\n",
    "    'Education': ['Bachelors', 'Masters', 'PhD', 'Bachelors', 'Masters',\n",
    "                  'Bachelors', 'Masters', 'PhD', 'Masters', 'PhD'],\n",
    "    'Job Title': ['Data Analyst', 'Data Scientist', 'ML Engineer', 'Data Analyst', 'Data Scientist',\n",
    "                  'Data Analyst', 'ML Engineer', 'Data Scientist', 'ML Engineer', 'ML Engineer'],\n",
    "    'Salary': [40000, 60000, 85000, 50000, 70000, 42000, 72000, 88000, 89000, 95000]\n",
    "}\n",
    "\n",
    "df = pd.DataFrame(data)\n",
    "\n",
    "# 2. Define features and target\n",
    "X = df[['Experience', 'Education', 'Job Title']]\n",
    "y = df['Salary']\n",
    "\n",
    "# 3. Encode categorical variables\n",
    "column_transformer = ColumnTransformer(\n",
    "    transformers=[\n",
    "        ('encoder', OneHotEncoder(handle_unknown='ignore'), ['Education', 'Job Title'])\n",
    "    ],\n",
    "    remainder='passthrough'\n",
    ")\n",
    "\n",
    "X_encoded = column_transformer.fit_transform(X)\n",
    "\n",
    "# 4. Split data\n",
    "X_train, X_test, y_train, y_test = train_test_split(\n",
    "    X_encoded, y, test_size=0.2, random_state=42\n",
    ")\n",
    "\n",
    "# 5. Train model\n",
    "model = LinearRegression()\n",
    "model.fit(X_train, y_train)\n",
    "\n",
    "# 6. Predict\n",
    "y_pred = model.predict(X_test)\n",
    "\n",
    "# 7. Evaluate\n",
    "print(\"Mean Squared Error:\", mean_squared_error(y_test, y_pred))\n",
    "print(\"R² Score:\", r2_score(y_test, y_pred))\n",
    "\n",
    "# 8. Predict for new employee\n",
    "new_employee = pd.DataFrame({\n",
    "    'Experience': [4],\n",
    "    'Education': ['Masters'],\n",
    "    'Job Title': ['Data Scientist']\n",
    "})\n",
    "\n",
    "new_encoded = column_transformer.transform(new_employee)\n",
    "predicted_salary = model.predict(new_encoded)\n",
    "\n",
    "print(\"Predicted Salary for New Employee: ${:.2f}\".format(predicted_salary[0]))\n"
   ]
  },
  {
   "cell_type": "code",
   "execution_count": null,
   "id": "6269f2bb-9c7a-4e91-8411-d302caec5c10",
   "metadata": {},
   "outputs": [],
   "source": []
  },
  {
   "cell_type": "code",
   "execution_count": null,
   "id": "911d926f-4e26-4cfb-a129-53c2e8877d59",
   "metadata": {},
   "outputs": [],
   "source": []
  }
 ],
 "metadata": {
  "kernelspec": {
   "display_name": "Python 3 (ipykernel)",
   "language": "python",
   "name": "python3"
  },
  "language_info": {
   "codemirror_mode": {
    "name": "ipython",
    "version": 3
   },
   "file_extension": ".py",
   "mimetype": "text/x-python",
   "name": "python",
   "nbconvert_exporter": "python",
   "pygments_lexer": "ipython3",
   "version": "3.12.7"
  }
 },
 "nbformat": 4,
 "nbformat_minor": 5
}
